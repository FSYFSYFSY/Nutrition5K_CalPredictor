{
 "cells": [
  {
   "cell_type": "markdown",
   "id": "08eaaeca",
   "metadata": {},
   "source": [
    "## Environment Setting"
   ]
  },
  {
   "cell_type": "code",
   "execution_count": null,
   "id": "0a8fc5fb",
   "metadata": {},
   "outputs": [
    {
     "ename": "ModuleNotFoundError",
     "evalue": "No module named 'torch'",
     "output_type": "error",
     "traceback": [
      "\u001b[1;31m---------------------------------------------------------------------------\u001b[0m",
      "\u001b[1;31mModuleNotFoundError\u001b[0m                       Traceback (most recent call last)",
      "Cell \u001b[1;32mIn[1], line 1\u001b[0m\n\u001b[1;32m----> 1\u001b[0m \u001b[38;5;28;01mimport\u001b[39;00m \u001b[38;5;21;01mtorch\u001b[39;00m\n\u001b[0;32m      2\u001b[0m \u001b[38;5;28;01mfrom\u001b[39;00m \u001b[38;5;21;01mPIL\u001b[39;00m \u001b[38;5;28;01mimport\u001b[39;00m Image\n\u001b[0;32m      3\u001b[0m \u001b[38;5;28;01mfrom\u001b[39;00m \u001b[38;5;21;01mtorch\u001b[39;00m\u001b[38;5;21;01m.\u001b[39;00m\u001b[38;5;21;01mutils\u001b[39;00m\u001b[38;5;21;01m.\u001b[39;00m\u001b[38;5;21;01mdata\u001b[39;00m \u001b[38;5;28;01mimport\u001b[39;00m Dataset, DataLoader\n",
      "\u001b[1;31mModuleNotFoundError\u001b[0m: No module named 'torch'"
     ]
    }
   ],
   "source": [
    "import torch\n",
    "from PIL import Image\n",
    "from torch.utils.data import Dataset, DataLoader\n",
    "import os\n",
    "import pandas as pd\n",
    "from pathlib import Path\n",
    "import torch.nn as nn\n",
    "import torch.nn.functional as F\n"
   ]
  },
  {
   "cell_type": "markdown",
   "id": "fe764f1b",
   "metadata": {},
   "source": [
    "## DataLoader"
   ]
  },
  {
   "cell_type": "markdown",
   "id": "0f7e48cf",
   "metadata": {},
   "source": [
    "### Load Image"
   ]
  },
  {
   "cell_type": "code",
   "execution_count": null,
   "id": "2111b868",
   "metadata": {},
   "outputs": [],
   "source": [
    "class MyDataset(Dataset):\n",
    "    def __init__(self, \n",
    "                 root, \n",
    "                 if_train = True,\n",
    "                 data_dir = \"train\",\n",
    "                 color_dir = \"color\",\n",
    "                 depth_dir = \"depth_raw\",\n",
    "                 rgb_name = \"rgb.png\",\n",
    "                 depth_name=\"depth_raw.png\",\n",
    "                 csv_name = \"nutrition5k_train.csv\",\n",
    "                 transform = False,\n",
    "                 ):\n",
    "        self.root = Path(root)\n",
    "        self.data = self.root / data_dir\n",
    "        self.color_dir  = self.data / color_dir\n",
    "        self.depth_dir = self.data / depth_dir\n",
    "        self.rgb_name = rgb_name\n",
    "        self.depth_name = depth_name\n",
    "        self.if_train = if_train\n",
    "        self.transform = transform\n",
    "\n",
    "        if self.if_train:\n",
    "            df = pd.read_csv(self.root / csv_name)\n",
    "            self.id2cal = {str(r[\"ID\"]) : float(r[\"Value\"]) for _, r in df.iterrow()}\n",
    "\n",
    "        rgb_paths = sorted((p / rgb_name for p in self.color_dir.glob(\"dish_*\") if (p / rgb_name).exists()))\n",
    "        if not rgb_paths:\n",
    "            raise RuntimeError(f\"Found 0 images in {self.color_dir}.\")\n",
    "        \n",
    "        self.samples = []\n",
    "        if self.if_train:\n",
    "            for rgb_path in rgb_paths:\n",
    "                dish_id = rgb_path.parent.name\n",
    "                if dish_id not in self.id2cal:\n",
    "                    print(f\"Warning: {dish_id} not found in CSV.\")\n",
    "                depth_path = None\n",
    "                if self.depth_dir is not None:\n",
    "                    depth_path = self.depth_dir / dish_id / self.depth_name\n",
    "\n",
    "            self.samples.append((rgb_path, depth_path, self.id2cal[dish_id]))\n",
    "        else:\n",
    "            for rgb_path in rgb_paths:\n",
    "                dish_id = rgb_path.parent.name\n",
    "                depth_path = None\n",
    "                if self.depth_dir is not None:\n",
    "                    depth_path = self.depth_dir / dish_id / self.depth_name\n",
    "\n",
    "                self.samples.append((rgb_path, depth_path, None))\n",
    "\n",
    "\n",
    "    def __len__(self):\n",
    "            return len(self.samples)\n",
    "    \n",
    "    def __getitem__(self, idx):\n",
    "        rgb_path, depth_path, cal = self.samples[idx]\n",
    "        rgb = Image.open(rgb_path).convert(\"RGB\")\n",
    "        depth = Image.open(depth_path).convert(\"L\") if depth_path and depth_path.exists() else None\n",
    "\n",
    "        if self.if_train == True:\n",
    "            cal = torch.tensor(cal, dtype=torch.float32)\n",
    "            return rgb, depth, cal\n",
    "        else:\n",
    "            return rgb, depth\n",
    "            \n",
    "        "
   ]
  },
  {
   "cell_type": "code",
   "execution_count": null,
   "id": "73698119",
   "metadata": {},
   "outputs": [],
   "source": [
    "train_set = MyDataset(root=Path(\".\"), if_train=True, transform=False)\n",
    "test_set = MyDataset(root=Path(\".\"), data_dir=\"test\", if_train=False, transform=False)\n",
    "\n",
    "train_loader = DataLoader(train_set, batch_size=32, shuffle=True,\n",
    "                          num_workers=4, pin_memory=True)\n",
    "test_loader  = DataLoader(test_set,  batch_size=32, shuffle=False,\n",
    "                          num_workers=4, pin_memory=True)\n"
   ]
  },
  {
   "cell_type": "markdown",
   "id": "c2a959b7",
   "metadata": {},
   "source": [
    "# Model Definition"
   ]
  },
  {
   "cell_type": "code",
   "execution_count": null,
   "id": "3080a1ec",
   "metadata": {},
   "outputs": [],
   "source": [
    "def conv_block(c_in, c_out, k=5, s=1, p=1):\n",
    "    return nn.Sequential(\n",
    "        nn.Conv2d(c_in, c_out, kernel_size=k, stride=s, padding=p, bias=False),\n",
    "        nn.BatchNorm2d(c_out),\n",
    "        nn.ReLU(inplace=True)\n",
    "    )\n",
    "\n",
    "class RGBBranch(nn.Module):\n",
    "    def __init__(self, in_ch=3):\n",
    "        super().__init__()\n",
    "        self.stem = nn.Sequential(\n",
    "            conv_block(in_ch, 32),                \n",
    "            conv_block(32, 32),\n",
    "            nn.MaxPool2d(2),                      \n",
    "            conv_block(32, 64),\n",
    "            conv_block(64, 64),\n",
    "            nn.MaxPool2d(2),                      \n",
    "            conv_block(64, 128),\n",
    "            nn.MaxPool2d(2),                      \n",
    "            conv_block(128, 256),\n",
    "            nn.MaxPool2d(2),                     \n",
    "        )\n",
    "        self.gap = nn.AdaptiveAvgPool2d(1)       \n",
    "\n",
    "    def forward(self, x):\n",
    "        x = self.stem(x)\n",
    "        x = self.gap(x).flatten(1)               \n",
    "        return x\n",
    "\n",
    "class DepthBranch(nn.Module):\n",
    "    def __init__(self, in_ch=1):\n",
    "        super().__init__()\n",
    "        self.stem = nn.Sequential(\n",
    "            conv_block(in_ch, 16),\n",
    "            conv_block(16, 16),\n",
    "            nn.MaxPool2d(2),                      \n",
    "            conv_block(16, 32),\n",
    "            nn.MaxPool2d(2),                      \n",
    "            conv_block(32, 64),\n",
    "            nn.MaxPool2d(2),                      \n",
    "            conv_block(64, 128),\n",
    "            nn.MaxPool2d(2),                      \n",
    "        )\n",
    "        self.gap = nn.AdaptiveAvgPool2d(1)       \n",
    "\n",
    "    def forward(self, x):\n",
    "        x = self.stem(x)\n",
    "        x = self.gap(x).flatten(1)              \n",
    "        return x\n",
    "\n",
    "class RGBDNet(nn.Module):\n",
    "\n",
    "    def __init__(self, use_dropout=True):\n",
    "        super().__init__()\n",
    "        self.rgb = RGBBranch(3)\n",
    "        self.depth = DepthBranch(1)\n",
    "\n",
    "        fusion_dim = 256 + 128\n",
    "        mlp = [\n",
    "            nn.Linear(fusion_dim, 128),\n",
    "            nn.ReLU(inplace=True)\n",
    "        ]\n",
    "        if use_dropout:\n",
    "            mlp.append(nn.Dropout(0.1))\n",
    "        mlp += [\n",
    "            nn.Linear(128, 64),\n",
    "            nn.ReLU(inplace=True),\n",
    "            nn.Linear(64, 32),\n",
    "            nn.ReLU(inplace=True),\n",
    "            nn.Linear(32, 1)\n",
    "        ]\n",
    "        self.head = nn.Sequential(*mlp)\n",
    "\n",
    "    def forward(self, rgb, depth):\n",
    "        f_rgb = self.rgb(rgb)       \n",
    "        f_d   = self.depth(depth)    \n",
    "        f     = torch.cat([f_rgb, f_d], dim=1)\n",
    "        out   = self.head(f).squeeze(1)  \n",
    "        return out\n",
    "\n"
   ]
  },
  {
   "cell_type": "markdown",
   "id": "5b764af9",
   "metadata": {},
   "source": [
    "# Training"
   ]
  },
  {
   "cell_type": "code",
   "execution_count": null,
   "id": "a0c14a94",
   "metadata": {},
   "outputs": [],
   "source": [
    "device = torch.device('cuda' if torch.cuda.is_available() else 'cpu')\n",
    "model = RGBDNet()  \n",
    "model.to(device)\n",
    "optimizer = torch.optim.AdamW(model.parameters(), lr=1e-4)\n",
    "criterion = torch.nn.L2Loss() \n",
    "\n",
    "for epoch in range(10):\n",
    "    # ---- Train ----\n",
    "    model.train()\n",
    "    for rgb, depth, cal, _ids in train_loader:\n",
    "        rgb, depth, cal = rgb.to(device), depth.to(device), cal.to(device)\n",
    "        pred = model(rgb, depth).squeeze(1) \n",
    "        loss = criterion(pred, cal)\n",
    "        optimizer.zero_grad()\n",
    "        loss.backward()\n",
    "        optimizer.step()"
   ]
  }
 ],
 "metadata": {
  "kernelspec": {
   "display_name": "Python 3",
   "language": "python",
   "name": "python3"
  },
  "language_info": {
   "codemirror_mode": {
    "name": "ipython",
    "version": 3
   },
   "file_extension": ".py",
   "mimetype": "text/x-python",
   "name": "python",
   "nbconvert_exporter": "python",
   "pygments_lexer": "ipython3",
   "version": "3.11.9"
  }
 },
 "nbformat": 4,
 "nbformat_minor": 5
}
