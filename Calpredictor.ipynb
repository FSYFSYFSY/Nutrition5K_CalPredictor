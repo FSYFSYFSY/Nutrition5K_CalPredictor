{
 "cells": [
  {
   "cell_type": "markdown",
   "id": "08eaaeca",
   "metadata": {},
   "source": [
    "## Environment Setting"
   ]
  },
  {
   "cell_type": "code",
   "execution_count": 23,
   "id": "0a8fc5fb",
   "metadata": {
    "execution": {
     "iopub.execute_input": "2025-10-17T00:12:21.648782Z",
     "iopub.status.busy": "2025-10-17T00:12:21.648445Z",
     "iopub.status.idle": "2025-10-17T00:12:21.653753Z",
     "shell.execute_reply": "2025-10-17T00:12:21.652917Z",
     "shell.execute_reply.started": "2025-10-17T00:12:21.648763Z"
    },
    "trusted": true
   },
   "outputs": [],
   "source": [
    "import torch\n",
    "from PIL import Image, UnidentifiedImageError\n",
    "from torch.utils.data import Dataset, DataLoader, random_split\n",
    "import os\n",
    "import pandas as pd\n",
    "from pathlib import Path\n",
    "import torch.nn as nn\n",
    "import torch.nn.functional as F\n",
    "import matplotlib.pyplot as plt\n",
    "from torchvision import transforms\n",
    "import random\n",
    "import torchvision.transforms.functional as TF\n"
   ]
  },
  {
   "cell_type": "markdown",
   "id": "fe764f1b",
   "metadata": {},
   "source": [
    "## DataLoader"
   ]
  },
  {
   "cell_type": "markdown",
   "id": "0f7e48cf",
   "metadata": {},
   "source": [
    "### Load Image"
   ]
  },
  {
   "cell_type": "code",
   "execution_count": 24,
   "id": "2111b868",
   "metadata": {
    "execution": {
     "iopub.execute_input": "2025-10-17T00:12:21.655279Z",
     "iopub.status.busy": "2025-10-17T00:12:21.655077Z",
     "iopub.status.idle": "2025-10-17T00:12:21.675315Z",
     "shell.execute_reply": "2025-10-17T00:12:21.674568Z",
     "shell.execute_reply.started": "2025-10-17T00:12:21.655257Z"
    },
    "trusted": true
   },
   "outputs": [],
   "source": [
    "class MyDataset(Dataset):\n",
    "    def __init__(self, \n",
    "                 root, \n",
    "                 if_train = True,\n",
    "                 data_dir = \"train\",\n",
    "                 color_dir = \"color\",\n",
    "                 depth_dir = \"depth_raw\",\n",
    "                 rgb_name = \"rgb.png\",\n",
    "                 depth_name=\"depth_raw.png\",\n",
    "                 csv_name = \"nutrition5k_train.csv\",\n",
    "                 transform = None, \n",
    "                 ):\n",
    "        self.root = root\n",
    "        self.data = self.root / data_dir\n",
    "        self.color_dir  = self.data / color_dir\n",
    "        self.depth_dir = self.data / depth_dir\n",
    "        self.rgb_name = rgb_name\n",
    "        self.depth_name = depth_name\n",
    "        self.if_train = if_train\n",
    "        \n",
    "\n",
    "\n",
    "        self.to_tensor = transforms.ToTensor()\n",
    "        self.normalize = transforms.Normalize(mean=[0.485, 0.456, 0.406], std=[0.229, 0.224, 0.225])\n",
    "        self.color_jitter = transforms.ColorJitter(brightness=0.2, contrast=0.2, saturation=0.2, hue=0.1)\n",
    "    \n",
    "\n",
    "        if self.if_train:\n",
    "            df = pd.read_csv(self.root / csv_name)\n",
    "            self.id2cal = {str(r[\"ID\"]) : float(r[\"Value\"]) for _, r in df.iterrows()}\n",
    "\n",
    "        rgb_paths = sorted((p / rgb_name for p in self.color_dir.glob(\"dish_*\") if (p / rgb_name).exists()))\n",
    "        if not rgb_paths:\n",
    "            raise RuntimeError(f\"Found 0 images in {self.color_dir}.\")\n",
    "        \n",
    "        self.samples = []\n",
    "        if self.if_train:\n",
    "            for rgb_path in rgb_paths:\n",
    "                dish_id = rgb_path.parent.name\n",
    "                if dish_id not in self.id2cal:\n",
    "                    print(f\"Warning: {dish_id} not found in CSV.\")\n",
    "                depth_path = self.depth_dir / dish_id / self.depth_name \n",
    "                self.samples.append((rgb_path, depth_path, self.id2cal[dish_id]))\n",
    "        else:\n",
    "            for rgb_path in rgb_paths:\n",
    "                dish_id = rgb_path.parent.name\n",
    "                depth_path = self.depth_dir / dish_id / self.depth_name \n",
    "                self.samples.append((rgb_path, depth_path, None))\n",
    "                \n",
    "    def __len__(self):\n",
    "            return len(self.samples)\n",
    "\n",
    "    def __getitem__(self, idx):\n",
    "        try:\n",
    "            rgb_path, depth_path, cal = self.samples[idx]\n",
    "            rgb = Image.open(rgb_path).convert(\"RGB\")\n",
    "            depth = Image.open(depth_path).convert(\"L\")\n",
    "\n",
    "            # Data enhencement\n",
    "            if self.if_train:\n",
    "                # rgb = TF.resize(rgb, (224, 224))\n",
    "                # depth = TF.resize(depth, (224, 224))\n",
    "\n",
    "                # 2. RandomRotation\n",
    "                if random.random() > 0.5:\n",
    "                    angle = random.uniform(-180, 180)\n",
    "                    rgb = TF.rotate(rgb, angle, interpolation=TF.InterpolationMode.BILINEAR)\n",
    "                    depth = TF.rotate(depth, angle, interpolation=TF.InterpolationMode.NEAREST)\n",
    "\n",
    "            else:\n",
    "                # rgb = TF.resize(rgb, 256)\n",
    "                # depth = TF.resize(depth, 256)\n",
    "                # rgb = TF.center_crop(rgb, 224)\n",
    "                # depth = TF.center_crop(depth, 224)\n",
    "                pass \n",
    "            \n",
    "            rgb = self.to_tensor(rgb)\n",
    "            depth = self.to_tensor(depth)\n",
    "            rgb = self.normalize(rgb)\n",
    "\n",
    "            if self.if_train:\n",
    "                cal = torch.tensor(cal, dtype=torch.float32)\n",
    "                return rgb, depth, cal\n",
    "            else:\n",
    "                return rgb, depth\n",
    "\n",
    "        except (UnidentifiedImageError, FileNotFoundError, Exception) as e:\n",
    "            print(f\"waring: index {idx} sample processing fail, will be taken place by original sample。error: {e}\")\n",
    "            new_idx = random.randint(0, len(self) - 1)\n",
    "            return self.__getitem__(new_idx)\n",
    "        "
   ]
  },
  {
   "cell_type": "code",
   "execution_count": 25,
   "id": "cb7bd047",
   "metadata": {
    "execution": {
     "iopub.execute_input": "2025-10-17T00:12:21.676476Z",
     "iopub.status.busy": "2025-10-17T00:12:21.676148Z",
     "iopub.status.idle": "2025-10-17T00:12:21.696769Z",
     "shell.execute_reply": "2025-10-17T00:12:21.696134Z",
     "shell.execute_reply.started": "2025-10-17T00:12:21.676450Z"
    },
    "trusted": true
   },
   "outputs": [
    {
     "name": "stdout",
     "output_type": "stream",
     "text": [
      "/mnt/c/Users/lhg45/Desktop/COMP90086/PJ/Nutrition5K\n"
     ]
    }
   ],
   "source": [
    "print(Path.cwd())"
   ]
  },
  {
   "cell_type": "code",
   "execution_count": 26,
   "id": "73698119",
   "metadata": {
    "execution": {
     "iopub.execute_input": "2025-10-17T00:12:21.697727Z",
     "iopub.status.busy": "2025-10-17T00:12:21.697482Z",
     "iopub.status.idle": "2025-10-17T00:12:30.478309Z",
     "shell.execute_reply": "2025-10-17T00:12:30.477754Z",
     "shell.execute_reply.started": "2025-10-17T00:12:21.697704Z"
    },
    "trusted": true
   },
   "outputs": [],
   "source": [
    "train_set = MyDataset(root=Path.cwd(), if_train=True, transform=False)\n",
    "test_set = MyDataset(root=Path.cwd(), data_dir=\"test\", if_train=False, transform=False)\n",
    "\n",
    "dataset_size = len(train_set)\n",
    "val_ratio = 0.1\n",
    "val_size = int(dataset_size * val_ratio)\n",
    "train_size = dataset_size - val_size\n",
    "train_subset, val_subset = random_split(train_set, [train_size, val_size])\n",
    "\n",
    "#torch.manual_seed(42) \n",
    "\n",
    "train_loader = DataLoader(train_subset, batch_size=16, shuffle=True,\n",
    "                          num_workers=4, pin_memory=True)\n",
    "val_loader = DataLoader(val_subset, batch_size=16, shuffle=False,\n",
    "                        num_workers=4, pin_memory=True)\n",
    "test_loader  = DataLoader(test_set,  batch_size=16, shuffle=False,\n",
    "                          num_workers=4, pin_memory=True)"
   ]
  },
  {
   "cell_type": "markdown",
   "id": "c2a959b7",
   "metadata": {},
   "source": [
    "# Model Definition"
   ]
  },
  {
   "cell_type": "code",
   "execution_count": 33,
   "id": "3080a1ec",
   "metadata": {
    "execution": {
     "iopub.execute_input": "2025-10-17T00:12:30.479892Z",
     "iopub.status.busy": "2025-10-17T00:12:30.479665Z",
     "iopub.status.idle": "2025-10-17T00:12:30.489980Z",
     "shell.execute_reply": "2025-10-17T00:12:30.489253Z",
     "shell.execute_reply.started": "2025-10-17T00:12:30.479875Z"
    },
    "trusted": true
   },
   "outputs": [
    {
     "data": {
      "text/plain": [
       "'\\nclass RGBDNet(nn.Module):\\n    def __init__(self, use_dropout=True):\\n        super().__init__()\\n        self.rgb = RGBBranch(3)\\n        self.depth = DepthBranch(1)\\n        fusion_dim = 256 + 128 \\n\\n        mlp = [\\n            nn.Linear(fusion_dim, 128),\\n            nn.ReLU(inplace=True)\\n        ]\\n        if use_dropout:\\n            mlp.append(nn.Dropout(0.5))\\n        mlp += [\\n            nn.Linear(128, 64),\\n            nn.ReLU(inplace=True),\\n            nn.Linear(64, 32),\\n            nn.ReLU(inplace=True),\\n            nn.Linear(32, 1)\\n        ]\\n        self.head = nn.Sequential(*mlp)\\n\\n    def forward(self, rgb, depth):\\n        f_rgb = self.rgb(rgb)\\n        f_d = self.depth(depth)\\n        f = torch.cat([f_rgb, f_d], dim=1)\\n        out = self.head(f).squeeze(1)\\n        return out\\n    '"
      ]
     },
     "execution_count": 33,
     "metadata": {},
     "output_type": "execute_result"
    }
   ],
   "source": [
    "def conv_block(c_in, c_out, k=3, s=1, p=1, bias=False):\n",
    "    return nn.Sequential(\n",
    "        nn.Conv2d(c_in, c_out, kernel_size=k, stride=s, padding=p, bias=bias),\n",
    "        nn.BatchNorm2d(c_out),\n",
    "        nn.ReLU(inplace=True)\n",
    "    )\n",
    "\n",
    "class AttentionPooling(nn.Module):\n",
    "    def __init__(self, dim_model: int):\n",
    "        super().__init__()\n",
    "        self.attn_fc = nn.Linear(dim_model, 1)\n",
    "\n",
    "    def forward(self, x: torch.Tensor):  # x: (B, num_tokens, dim_model)\n",
    "        attn_scores = self.attn_fc(x)              # (B, num_tokens, 1)\n",
    "        attn_weights = F.softmax(attn_scores, dim=1)\n",
    "        pooled = torch.sum(attn_weights * x, dim=1)\n",
    "        return pooled\n",
    "\n",
    "\n",
    "class TransformerHead(nn.Module):\n",
    "    def __init__(\n",
    "        self,\n",
    "        in_features: int,\n",
    "        num_tokens:  int = 4,\n",
    "        dim_model:   int = 64,\n",
    "        nhead:       int = 4,\n",
    "        dropout:     float = 0.1\n",
    "    ):\n",
    "        super().__init__()\n",
    "        self.num_tokens = num_tokens\n",
    "        self.dim_model  = dim_model\n",
    "        self.token_embed = nn.Linear(in_features, num_tokens * dim_model)\n",
    "\n",
    "        self.pos_embed = nn.Parameter(torch.zeros(1, num_tokens, dim_model))\n",
    "\n",
    "        encoder_layer = nn.TransformerEncoderLayer(\n",
    "            d_model=dim_model,\n",
    "            nhead=nhead,\n",
    "            dropout=dropout,\n",
    "            batch_first=True,\n",
    "            activation='gelu'\n",
    "        )\n",
    "        self.transformer = nn.TransformerEncoder(\n",
    "            encoder_layer,\n",
    "            num_layers=1\n",
    "        )\n",
    "\n",
    "        self.pool = nn.AdaptiveAvgPool1d(1)\n",
    "\n",
    "        self.fc = nn.Sequential(\n",
    "            nn.Linear(dim_model, 32),\n",
    "            nn.ReLU(),\n",
    "            nn.Linear(32, 1)\n",
    "        )\n",
    "\n",
    "    def forward(self, x) -> torch.Tensor:\n",
    "        B = x.size(0)\n",
    "\n",
    "        tokens = self.token_embed(x)                     # (B, num_tokens * dim_model)\n",
    "        tokens = tokens.view(B, self.num_tokens, self.dim_model)\n",
    "        tokens = tokens + self.pos_embed\n",
    "        tokens = self.transformer(tokens)                # (B, num_tokens, dim_model)\n",
    "\n",
    "        feat = tokens.transpose(1, 2)                    # (B, dim_model, num_tokens)\n",
    "        feat = self.pool(feat).squeeze(-1)               # (B, dim_model)                    \n",
    "        return self.fc(feat).squeeze(1)\n",
    "\n",
    "\n",
    "\n",
    "class PreActResidualBlock(nn.Module):\n",
    "    def __init__(self, in_channels, out_channels, stride=1):\n",
    "        super().__init__()\n",
    "        \n",
    "        # BN -> ReLU -> Conv\n",
    "        self.preact_conv1 = nn.Sequential(\n",
    "            nn.BatchNorm2d(in_channels),\n",
    "            nn.ReLU(inplace=True),\n",
    "            nn.Conv2d(in_channels, out_channels, kernel_size=3, stride=stride, padding=1, bias=False) \n",
    "        )\n",
    "        \n",
    "        self.preact_conv2 = nn.Sequential(\n",
    "            nn.BatchNorm2d(out_channels),\n",
    "            nn.ReLU(inplace=True),\n",
    "            nn.Conv2d(out_channels, out_channels, kernel_size=3, stride=1, padding=1, bias=False)\n",
    "        )\n",
    "        \n",
    "        self.shortcut = nn.Sequential()\n",
    "        if stride != 1 or in_channels != out_channels:\n",
    "            self.shortcut = nn.Conv2d(in_channels, out_channels, kernel_size=1, stride=stride, bias=False)\n",
    "\n",
    "    def forward(self, x):\n",
    "        identity = self.shortcut(x) \n",
    "        out = self.preact_conv1(x)\n",
    "        out = self.preact_conv2(out)\n",
    "        out += identity          \n",
    "        return out\n",
    "\n",
    "class RGBBranch(nn.Module):\n",
    "    def __init__(self, in_ch=3):\n",
    "        super().__init__()\n",
    "        self.stem = nn.Sequential(\n",
    "            nn.Conv2d(in_ch, 32, kernel_size=5, stride=2, padding=2, bias=False),\n",
    "            nn.BatchNorm2d(32), \n",
    "            nn.ReLU(inplace=True),\n",
    "            nn.MaxPool2d(kernel_size=3, stride=2, padding=1)\n",
    "        )\n",
    "    \n",
    "        self.layer1 = nn.Sequential(\n",
    "            PreActResidualBlock(32, 64, stride=2),\n",
    "            PreActResidualBlock(64, 64, stride=1) \n",
    "        )\n",
    "        self.layer2 = nn.Sequential(\n",
    "            PreActResidualBlock(64, 128, stride=2),\n",
    "            PreActResidualBlock(128, 128, stride=1)\n",
    "        )\n",
    "        self.layer3 = nn.Sequential(\n",
    "            PreActResidualBlock(128, 256, stride=2),\n",
    "            PreActResidualBlock(256, 256, stride=1)\n",
    "        )\n",
    "        \n",
    "        self.final_bn_relu = nn.Sequential(\n",
    "             nn.BatchNorm2d(256),\n",
    "             nn.ReLU(inplace=True),\n",
    "             nn.Dropout2d(p=0.1)\n",
    "        )\n",
    "        \n",
    "        self.gap = nn.AdaptiveAvgPool2d(1)\n",
    "\n",
    "    def forward(self, x):\n",
    "        x = self.stem(x)\n",
    "        x = self.layer1(x)\n",
    "        x = self.layer2(x)\n",
    "        x = self.layer3(x)\n",
    "        x = self.final_bn_relu(x) \n",
    "        x = self.gap(x).flatten(1)\n",
    "        return x\n",
    "\n",
    "class DepthBranch(nn.Module):\n",
    "    def __init__(self, in_ch=1):\n",
    "        super().__init__()\n",
    "        self.stem = nn.Sequential(\n",
    "            nn.Conv2d(in_ch, 16, kernel_size=5, stride=2, padding=2, bias=False),\n",
    "            nn.BatchNorm2d(16),\n",
    "            #nn.ReLU(inplace=True), \n",
    "            nn.MaxPool2d(kernel_size=3, stride=2, padding=1)\n",
    "        )\n",
    "        \n",
    "        self.layer1 = nn.Sequential(\n",
    "            PreActResidualBlock(16, 32, stride=2),\n",
    "            PreActResidualBlock(32, 32, stride=1)\n",
    "        )\n",
    "        self.layer2 = nn.Sequential(\n",
    "            PreActResidualBlock(32, 64, stride=2),\n",
    "            PreActResidualBlock(64, 64, stride=1)\n",
    "        )\n",
    "        self.layer3 = nn.Sequential(\n",
    "            PreActResidualBlock(64, 128, stride=2),\n",
    "            PreActResidualBlock(128, 128, stride=1)\n",
    "        )\n",
    "\n",
    "        self.final_bn_relu = nn.Sequential(\n",
    "             nn.BatchNorm2d(128),\n",
    "             nn.ReLU(inplace=True),\n",
    "             nn.Dropout2d(p=0.1)\n",
    "        )\n",
    "        \n",
    "        self.gap = nn.AdaptiveAvgPool2d(1)\n",
    "\n",
    "    def forward(self, x):\n",
    "        x = self.stem(x)\n",
    "        x = self.layer1(x)\n",
    "        x = self.layer2(x)\n",
    "        x = self.layer3(x)\n",
    "        x = self.final_bn_relu(x) \n",
    "        x = self.gap(x).flatten(1)\n",
    "        return x             \n",
    "\n",
    "\n",
    "class RGBDNet(nn.Module):\n",
    "    def __init__(self,\n",
    "                 num_tokens: int = 32,\n",
    "                 dim_model: int  = 384,\n",
    "                 nhead: int     = 12,\n",
    "                 dropout: float = 0.1):\n",
    "        super().__init__()\n",
    "        self.rgb   = RGBBranch(3)\n",
    "        self.depth = DepthBranch(1)\n",
    "\n",
    "        fusion_dim = 256 + 128\n",
    "\n",
    "        self.head = TransformerHead(\n",
    "            in_features = fusion_dim,\n",
    "            num_tokens  = num_tokens,\n",
    "            dim_model   = dim_model,\n",
    "            nhead       = nhead,\n",
    "            dropout     = dropout\n",
    "        )\n",
    "\n",
    "    def forward(self, rgb: torch.Tensor, depth: torch.Tensor) -> torch.Tensor:\n",
    "        f_rgb = self.rgb(rgb)      # (B, 256)\n",
    "        f_d   = self.depth(depth)  # (B, 128)\n",
    "\n",
    "        f      = torch.cat([f_rgb, f_d], dim=1)  # (B, 384)\n",
    "        output = self.head(f)                    # (B,)\n",
    "        return output\n",
    "\n",
    "\n",
    "\n",
    "'''\n",
    "class RGBDNet(nn.Module):\n",
    "    def __init__(self, use_dropout=True):\n",
    "        super().__init__()\n",
    "        self.rgb = RGBBranch(3)\n",
    "        self.depth = DepthBranch(1)\n",
    "        fusion_dim = 256 + 128 \n",
    "        \n",
    "        mlp = [\n",
    "            nn.Linear(fusion_dim, 128),\n",
    "            nn.ReLU(inplace=True)\n",
    "        ]\n",
    "        if use_dropout:\n",
    "            mlp.append(nn.Dropout(0.5))\n",
    "        mlp += [\n",
    "            nn.Linear(128, 64),\n",
    "            nn.ReLU(inplace=True),\n",
    "            nn.Linear(64, 32),\n",
    "            nn.ReLU(inplace=True),\n",
    "            nn.Linear(32, 1)\n",
    "        ]\n",
    "        self.head = nn.Sequential(*mlp)\n",
    "\n",
    "    def forward(self, rgb, depth):\n",
    "        f_rgb = self.rgb(rgb)\n",
    "        f_d = self.depth(depth)\n",
    "        f = torch.cat([f_rgb, f_d], dim=1)\n",
    "        out = self.head(f).squeeze(1)\n",
    "        return out\n",
    "    '''"
   ]
  },
  {
   "cell_type": "markdown",
   "id": "5b764af9",
   "metadata": {},
   "source": [
    "# Training"
   ]
  },
  {
   "cell_type": "code",
   "execution_count": null,
   "id": "a0c14a94",
   "metadata": {
    "execution": {
     "iopub.execute_input": "2025-10-17T00:12:30.490828Z",
     "iopub.status.busy": "2025-10-17T00:12:30.490665Z",
     "iopub.status.idle": "2025-10-17T00:19:05.564175Z",
     "shell.execute_reply": "2025-10-17T00:19:05.563375Z",
     "shell.execute_reply.started": "2025-10-17T00:12:30.490815Z"
    },
    "trusted": true
   },
   "outputs": [
    {
     "name": "stdout",
     "output_type": "stream",
     "text": [
      "detect 1 GPU avaliable。\n",
      "Start epoch: 1\n",
      "Epoch [1/100] | Train Loss: 228.3116, Val Loss: 226.3929, Train SMAPE: 170.175%, Val MAPE: 149.782%\n",
      "Start epoch: 2\n",
      "Epoch [2/100] | Train Loss: 213.1194, Val Loss: 209.4943, Train SMAPE: 138.542%, Val MAPE: 124.081%\n",
      "Start epoch: 3\n",
      "Epoch [3/100] | Train Loss: 195.3626, Val Loss: 192.1844, Train SMAPE: 116.163%, Val MAPE: 107.953%\n",
      "Start epoch: 4\n",
      "Epoch [4/100] | Train Loss: 178.8538, Val Loss: 177.6821, Train SMAPE: 101.299%, Val MAPE: 96.949%\n",
      "Start epoch: 5\n",
      "Epoch [5/100] | Train Loss: 166.8956, Val Loss: 168.1154, Train SMAPE: 92.527%, Val MAPE: 90.715%\n",
      "Start epoch: 6\n",
      "Epoch [6/100] | Train Loss: 159.6785, Val Loss: 162.7461, Train SMAPE: 87.653%, Val MAPE: 87.277%\n",
      "Start epoch: 7\n",
      "Epoch [7/100] | Train Loss: 156.9709, Val Loss: 159.7477, Train SMAPE: 85.799%, Val MAPE: 86.029%\n",
      "Start epoch: 8\n",
      "Epoch [8/100] | Train Loss: 143.7046, Val Loss: 142.3056, Train SMAPE: 81.919%, Val MAPE: 76.089%\n",
      "Start epoch: 9\n"
     ]
    }
   ],
   "source": [
    "if torch.cuda.is_available():\n",
    "    print(f\"detect {torch.cuda.device_count()} GPU avaliable。\")\n",
    "    device = torch.device('cuda')\n",
    "else:\n",
    "    print(\"No GPU detect, runing on cpu\")\n",
    "    device = torch.device('cpu')\n",
    "\n",
    "model = RGBDNet()  \n",
    "if torch.cuda.device_count() > 1:\n",
    "    print(\"using multipule GPU\")\n",
    "    model = nn.DataParallel(model)\n",
    "\n",
    "model.to(device)\n",
    "\n",
    "optimizer = torch.optim.AdamW(model.parameters(), lr=1e-4)\n",
    "criterion = nn.SmoothL1Loss()\n",
    "\n",
    "\n",
    "train_losses, val_losses = [], []\n",
    "train_smapes, val_smapes = [], []\n",
    "\n",
    "num_epochs = 100\n",
    "\n",
    "for epoch in range(num_epochs):\n",
    "    model.train()\n",
    "    running_loss, smape_sum, n_batches = 0.0, 0.0, 0\n",
    "    print(\"Start epoch: \" + str(epoch+1))\n",
    "    image_count = 0\n",
    "\n",
    "    for rgb, depth, cal in train_loader:\n",
    "        rgb, depth, cal = rgb.to(device), depth.to(device), cal.to(device)\n",
    "        pred = model(rgb, depth)\n",
    "        loss = criterion(pred, cal)\n",
    "        optimizer.zero_grad()\n",
    "        loss.backward()\n",
    "        optimizer.step()\n",
    "\n",
    "        running_loss += loss.item() * rgb.size(0)\n",
    "        smape_batch = torch.mean( 2 * torch.abs(pred - cal) / (torch.abs(pred) + torch.abs(cal) + 1e-8)).item()\n",
    "        smape_sum += smape_batch\n",
    "        n_batches += 1\n",
    "\n",
    "        image_count += rgb.size(0)\n",
    "        print(f\"Processed {image_count} images\", end='\\r')\n",
    "\n",
    "    train_loss = running_loss / len(train_loader.dataset)\n",
    "    train_smape = smape_sum / n_batches\n",
    "    train_losses.append(train_loss)\n",
    "    train_smapes.append(train_smape)\n",
    "\n",
    "    model.eval()\n",
    "    val_loss, smape_sum, n_batches = 0.0, 0.0, 0\n",
    "    with torch.no_grad():\n",
    "        for rgb, depth, cal in val_loader:\n",
    "            rgb, depth, cal = rgb.to(device), depth.to(device), cal.to(device)\n",
    "            pred = model(rgb, depth)\n",
    "            loss = criterion(pred, cal)\n",
    "            val_loss += loss.item() * rgb.size(0)\n",
    "            smape_batch = torch.mean( 2 * torch.abs(pred - cal) / (torch.abs(pred) + torch.abs(cal) + 1e-8)).item()\n",
    "            smape_sum += smape_batch\n",
    "            n_batches += 1\n",
    "\n",
    "    val_loss /= len(val_loader.dataset)\n",
    "    val_smape = smape_sum / n_batches\n",
    "    val_losses.append(val_loss)\n",
    "    val_smapes.append(val_smape)\n",
    "\n",
    "    torch.cuda.empty_cache()\n",
    "\n",
    "    print(f\"Epoch [{epoch+1}/{num_epochs}] | \"\n",
    "          f\"Train Loss: {train_loss:.4f}, Val Loss: {val_loss:.4f}, \"\n",
    "          f\"Train SMAPE: {train_smape*100:.3f}%, Val MAPE: {val_smape*100:.3f}%\")\n",
    "\n",
    "\n"
   ]
  },
  {
   "cell_type": "code",
   "execution_count": null,
   "id": "1a42e550",
   "metadata": {
    "execution": {
     "iopub.execute_input": "2025-10-17T00:19:05.565468Z",
     "iopub.status.busy": "2025-10-17T00:19:05.565190Z",
     "iopub.status.idle": "2025-10-17T00:19:05.594650Z",
     "shell.execute_reply": "2025-10-17T00:19:05.594055Z",
     "shell.execute_reply.started": "2025-10-17T00:19:05.565445Z"
    },
    "trusted": true
   },
   "outputs": [
    {
     "name": "stdout",
     "output_type": "stream",
     "text": [
      "Model weights saved to checkpoints/transformerHead_model_epoch100_10_19.pth\n"
     ]
    }
   ],
   "source": [
    "save_path = \"checkpoints/HS_enhence_tran_epoch100_10_20.pth\" \n",
    "torch.save(model.state_dict(), save_path)\n",
    "print(f\"Model weights saved to {save_path}\")\n"
   ]
  },
  {
   "cell_type": "markdown",
   "id": "a40963b3",
   "metadata": {},
   "source": [
    "## Plot"
   ]
  },
  {
   "cell_type": "code",
   "execution_count": null,
   "id": "dc5f9e02",
   "metadata": {
    "execution": {
     "iopub.execute_input": "2025-10-17T00:19:05.595679Z",
     "iopub.status.busy": "2025-10-17T00:19:05.595385Z",
     "iopub.status.idle": "2025-10-17T00:19:05.924132Z",
     "shell.execute_reply": "2025-10-17T00:19:05.923443Z",
     "shell.execute_reply.started": "2025-10-17T00:19:05.595660Z"
    },
    "trusted": true
   },
   "outputs": [
    {
     "data": {
      "image/png": "[encoded data removed]",
      "text/plain": [
       "<Figure size 1000x400 with 2 Axes>"
      ]
     },
     "metadata": {},
     "output_type": "display_data"
    }
   ],
   "source": [
    "plt.figure(figsize=(10,4))\n",
    "plt.subplot(1,2,1)\n",
    "plt.plot(train_losses, label='Train Loss')\n",
    "plt.plot(val_losses, label='Val Loss')\n",
    "plt.title('L1 Huber Loss Curve'); plt.xlabel('Epoch'); plt.ylabel('Loss'); plt.legend()\n",
    "\n",
    "plt.subplot(1,2,2)\n",
    "plt.plot([m*100 for m in train_smapes], label='Train SMAPE')\n",
    "plt.plot([m*100 for m in val_smapes], label='Val SMAPE')\n",
    "plt.title('SMAPE Curve'); plt.xlabel('Epoch'); plt.ylabel('SMAPE (%)'); plt.legend()\n",
    "\n",
    "plt.tight_layout()\n",
    "plt.show()"
   ]
  },
  {
   "cell_type": "markdown",
   "id": "29bdb27c",
   "metadata": {},
   "source": [
    "# Testing"
   ]
  },
  {
   "cell_type": "code",
   "execution_count": null,
   "id": "4c50fd41",
   "metadata": {
    "execution": {
     "iopub.execute_input": "2025-10-17T00:19:05.925312Z",
     "iopub.status.busy": "2025-10-17T00:19:05.925048Z",
     "iopub.status.idle": "2025-10-17T00:19:08.191709Z",
     "shell.execute_reply": "2025-10-17T00:19:08.190938Z",
     "shell.execute_reply.started": "2025-10-17T00:19:05.925289Z"
    },
    "trusted": true
   },
   "outputs": [],
   "source": [
    "model.eval()\n",
    "predictions = []\n",
    "submission_df = pd.DataFrame({\"ID\": [], \"Value\": []})\n",
    "with torch.no_grad():\n",
    "    for rgb, depth in test_loader:\n",
    "        rgb, depth = rgb.to(device), depth.to(device)\n",
    "        pred = model(rgb, depth)\n",
    "        predictions.extend(pred.cpu().numpy())\n",
    "\n",
    "submission_df = pd.DataFrame({\"ID\": [f\"dish_{3300+i:04d}\" for i in range(1, len(predictions)+1)],\n",
    "                                    \"Value\": predictions})\n"
   ]
  },
  {
   "cell_type": "code",
   "execution_count": null,
   "id": "acfbe572-91a2-4365-952a-d611e8a2db10",
   "metadata": {
    "execution": {
     "iopub.execute_input": "2025-10-17T00:19:08.192950Z",
     "iopub.status.busy": "2025-10-17T00:19:08.192695Z",
     "iopub.status.idle": "2025-10-17T00:19:08.199180Z",
     "shell.execute_reply": "2025-10-17T00:19:08.198653Z",
     "shell.execute_reply.started": "2025-10-17T00:19:08.192928Z"
    },
    "trusted": true
   },
   "outputs": [],
   "source": [
    "output_filepath = \"submission.csv\"\n",
    "\n",
    "submission_df.to_csv(output_filepath, index=False)"
   ]
  }
 ],
 "metadata": {
  "kaggle": {
   "accelerator": "nvidiaTeslaT4",
   "dataSources": [
    {
     "databundleVersionId": 13740179,
     "sourceId": 115075,
     "sourceType": "competition"
    }
   ],
   "dockerImageVersionId": 31154,
   "isGpuEnabled": true,
   "isInternetEnabled": true,
   "language": "python",
   "sourceType": "notebook"
  },
  "kernelspec": {
   "display_name": "Python (Pytorch2)",
   "language": "python",
   "name": "pytorch2"
  },
  "language_info": {
   "codemirror_mode": {
    "name": "ipython",
    "version": 3
   },
   "file_extension": ".py",
   "mimetype": "text/x-python",
   "name": "python",
   "nbconvert_exporter": "python",
   "pygments_lexer": "ipython3",
   "version": "3.13.2"
  }
 },
 "nbformat": 4,
 "nbformat_minor": 5
}
